{
 "cells": [
  {
   "cell_type": "markdown",
   "metadata": {
    "colab_type": "text",
    "id": "EgcHquYX4rNN"
   },
   "source": [
    "# Necessary libraries and imports"
   ]
  },
  {
   "cell_type": "code",
   "execution_count": 1,
   "metadata": {
    "colab": {},
    "colab_type": "code",
    "id": "Q7-bxxyE4Q0A",
    "tags": []
   },
   "outputs": [
    {
     "ename": "ModuleNotFoundError",
     "evalue": "No module named 'qpsolvers'",
     "output_type": "error",
     "traceback": [
      "\u001b[0;31m---------------------------------------------------------------------------\u001b[0m",
      "\u001b[0;31mModuleNotFoundError\u001b[0m                       Traceback (most recent call last)",
      "\u001b[0;32m<ipython-input-1-2d269b25635d>\u001b[0m in \u001b[0;36m<module>\u001b[0;34m\u001b[0m\n\u001b[1;32m      3\u001b[0m \u001b[0;32mimport\u001b[0m \u001b[0mnumpy\u001b[0m \u001b[0;32mas\u001b[0m \u001b[0mnp\u001b[0m\u001b[0;34m\u001b[0m\u001b[0;34m\u001b[0m\u001b[0m\n\u001b[1;32m      4\u001b[0m \u001b[0;32mimport\u001b[0m \u001b[0mutils\u001b[0m\u001b[0;34m\u001b[0m\u001b[0;34m\u001b[0m\u001b[0m\n\u001b[0;32m----> 5\u001b[0;31m \u001b[0;32mfrom\u001b[0m \u001b[0msupport_vector_machines\u001b[0m \u001b[0;32mimport\u001b[0m \u001b[0mSVM\u001b[0m\u001b[0;34m\u001b[0m\u001b[0;34m\u001b[0m\u001b[0m\n\u001b[0m\u001b[1;32m      6\u001b[0m \u001b[0;32mimport\u001b[0m \u001b[0mmatplotlib\u001b[0m\u001b[0;34m.\u001b[0m\u001b[0mpyplot\u001b[0m \u001b[0;32mas\u001b[0m \u001b[0mplt\u001b[0m\u001b[0;34m\u001b[0m\u001b[0;34m\u001b[0m\u001b[0m\n\u001b[1;32m      7\u001b[0m \u001b[0;32mfrom\u001b[0m \u001b[0msklearn\u001b[0m \u001b[0;32mimport\u001b[0m \u001b[0mpreprocessing\u001b[0m\u001b[0;34m\u001b[0m\u001b[0;34m\u001b[0m\u001b[0m\n",
      "\u001b[0;32m~/Downloads/CIS520/CIS-520-Spring21-Python-Problem-Sets/PS2/problem_set/release/ps2_kit/support_vector_machines.py\u001b[0m in \u001b[0;36m<module>\u001b[0;34m\u001b[0m\n\u001b[1;32m      4\u001b[0m \u001b[0;32mfrom\u001b[0m \u001b[0mcvxopt\u001b[0m \u001b[0;32mimport\u001b[0m \u001b[0mmatrix\u001b[0m \u001b[0;32mas\u001b[0m \u001b[0mcvxopt_matrix\u001b[0m\u001b[0;34m\u001b[0m\u001b[0;34m\u001b[0m\u001b[0m\n\u001b[1;32m      5\u001b[0m \u001b[0;32mfrom\u001b[0m \u001b[0mcvxopt\u001b[0m \u001b[0;32mimport\u001b[0m \u001b[0msolvers\u001b[0m \u001b[0;32mas\u001b[0m \u001b[0mcvxopt_solvers\u001b[0m\u001b[0;34m\u001b[0m\u001b[0;34m\u001b[0m\u001b[0m\n\u001b[0;32m----> 6\u001b[0;31m \u001b[0;32mfrom\u001b[0m \u001b[0mqpsolvers\u001b[0m \u001b[0;32mimport\u001b[0m \u001b[0msolve_qp\u001b[0m\u001b[0;34m\u001b[0m\u001b[0;34m\u001b[0m\u001b[0m\n\u001b[0m\u001b[1;32m      7\u001b[0m \u001b[0;32mfrom\u001b[0m \u001b[0mmosek\u001b[0m \u001b[0;32mimport\u001b[0m \u001b[0miparam\u001b[0m\u001b[0;34m\u001b[0m\u001b[0;34m\u001b[0m\u001b[0m\n\u001b[1;32m      8\u001b[0m \u001b[0;34m\u001b[0m\u001b[0m\n",
      "\u001b[0;31mModuleNotFoundError\u001b[0m: No module named 'qpsolvers'"
     ]
    }
   ],
   "source": [
    "%load_ext autoreload\n",
    "%autoreload 2\n",
    "import numpy as np\n",
    "import utils\n"
   ]
  },
  {
   "cell_type": "markdown",
   "metadata": {
    "colab_type": "text",
    "id": "M09zETB34vkh"
   },
   "source": [
    "# Helper functions to draw decision boundary plot"
   ]
  },
  {
   "cell_type": "code",
   "execution_count": null,
   "metadata": {
    "colab": {},
    "colab_type": "code",
    "id": "_apyovcQ4wrL"
   },
   "outputs": [],
   "source": [
    "def plot_contours(clf, X, y, n=100):\n",
    "    \"\"\"\n",
    "    Produce classification decision boundary\n",
    "\n",
    "    Args:\n",
    "        clf:\n",
    "            Any classifier object that predicts {-1, +1} labels\n",
    "        \n",
    "        X (numpy.array):\n",
    "            A 2d feature matrix\n",
    "\n",
    "        y (numpy.array):\n",
    "            A {-1, +1} label vector\n",
    "\n",
    "        n (int)\n",
    "            Number of points to partition the meshgrids\n",
    "            Default = 100.\n",
    "\n",
    "    Returns:\n",
    "        (fig, ax)\n",
    "            fig is the figure handle\n",
    "            ax is the single axis in the figure\n",
    "\n",
    "        One can use fig to save the figure.\n",
    "        Or ax to modify the title/axis label etc\n",
    "\n",
    "    \"\"\"\n",
    "    from matplotlib.colors import ListedColormap\n",
    "    import matplotlib.pyplot as plt\n",
    "\n",
    "    fig, ax = plt.subplots()\n",
    "    X0, X1 = X[:, 0], X[:, 1]\n",
    "\n",
    "    # Set-up grid for plotting.\n",
    "    xx, yy = np.meshgrid(np.linspace(X0.min()-1, X0.max()+1, n),\\\n",
    "                         np.linspace(X1.min()-1, X1.max()+1, n),\\\n",
    "                        )\n",
    "    # Do prediction for every single point on the mesh grid\n",
    "    # This will take a few seconds\n",
    "    Z = clf.predict(np.c_[xx.ravel(), yy.ravel()])\n",
    "    Z = Z.reshape(xx.shape)\n",
    "    ax.contourf(xx, yy, Z, cmap=ListedColormap([\"cyan\", \"pink\"]))\n",
    "\n",
    "    # Scatter the -1 points\n",
    "    ax.scatter([X0[i] for i,v in enumerate(y) if v == -1],\n",
    "                        [X1[i] for i,v in enumerate(y) if v == -1], \n",
    "                        c=\"blue\", label='- 1',\n",
    "                        marker='x')\n",
    "    # Scatter the +1 points\n",
    "    ax.scatter([X0[i] for i,v in enumerate(y) if v == 1],\n",
    "                        [X1[i] for i,v in enumerate(y) if v == 1], \n",
    "                        edgecolor=\"red\", label='+1', facecolors='none', s=10,\n",
    "                        marker='o')\n",
    "\n",
    "    ax.set_ylabel('x_2')\n",
    "    ax.set_xlabel('x_1')\n",
    "    ax.legend()\n",
    "    return fig, ax"
   ]
  },
  {
   "cell_type": "markdown",
   "metadata": {
    "colab_type": "text",
    "id": "0vrQ5-UX5jrz"
   },
   "source": [
    "# Experiments on synthetic data"
   ]
  },
  {
   "cell_type": "code",
   "execution_count": null,
   "metadata": {
    "colab": {},
    "colab_type": "code",
    "id": "NF0o7lDx5kwy"
   },
   "outputs": [],
   "source": [
    "# First load the data\n",
    "X_syn_train, y_syn_train, X_syn_test, y_syn_test = utils.load_all_train_test_data(\"P1/Synthetic-Dataset\")\n",
    "synthetic_folds = utils.load_all_cross_validation_data(\"P1/Synthetic-Dataset/CrossValidation\")"
   ]
  }
 ],
 "metadata": {
  "colab": {
   "authorship_tag": "ABX9TyMheDdXwqpDi/UnIRodJSaE",
   "collapsed_sections": [],
   "name": "HW2-SVM.ipynb",
   "provenance": []
  },
  "kernelspec": {
   "display_name": "Python 3",
   "language": "python",
   "name": "python3"
  },
  "language_info": {
   "codemirror_mode": {
    "name": "ipython",
    "version": 3
   },
   "file_extension": ".py",
   "mimetype": "text/x-python",
   "name": "python",
   "nbconvert_exporter": "python",
   "pygments_lexer": "ipython3",
   "version": "3.8.5"
  }
 },
 "nbformat": 4,
 "nbformat_minor": 1
}
