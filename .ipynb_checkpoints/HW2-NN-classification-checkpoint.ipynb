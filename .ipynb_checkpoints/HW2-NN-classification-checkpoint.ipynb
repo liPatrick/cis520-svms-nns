{
 "cells": [
  {
   "cell_type": "markdown",
   "metadata": {
    "colab_type": "text",
    "id": "NKlfIKhW7FNA"
   },
   "source": [
    "# Neural networks for classification"
   ]
  },
  {
   "cell_type": "code",
   "execution_count": 1,
   "metadata": {
    "colab": {},
    "colab_type": "code",
    "id": "BKJtNIp17FNE",
    "tags": []
   },
   "outputs": [],
   "source": [
    "%load_ext autoreload\n",
    "%autoreload 2\n",
    "import numpy as np \n",
    "import matplotlib.pyplot as plt\n",
    "import utils\n",
    "import time\n",
    "from neural_network import NeuralNetworkClassification\n"
   ]
  },
  {
   "cell_type": "markdown",
   "metadata": {},
   "source": [
    "## Part a. Synthetic data"
   ]
  },
  {
   "cell_type": "code",
   "execution_count": 2,
   "metadata": {
    "colab": {},
    "colab_type": "code",
    "id": "6fw9Sf0N7FNN"
   },
   "outputs": [],
   "source": [
    "# Load synthetic data\n",
    "X_syn_train, y_syn_train, X_syn_test, y_syn_test = utils.load_all_train_test_data(\"P3/Synthetic-Dataset\")\n",
    "synthetic_folds = utils.load_all_cross_validation_data(\"P3/Synthetic-Dataset/CrossValidation\")"
   ]
  },
  {
   "cell_type": "code",
   "execution_count": 0,
   "metadata": {
    "colab": {},
    "colab_type": "code",
    "id": "mthx7k7O7FOS"
   },
   "outputs": [],
   "source": []
  }
 ],
 "metadata": {
  "colab": {
   "collapsed_sections": [],
   "name": "HW2-NN.ipynb",
   "provenance": []
  },
  "kernelspec": {
   "display_name": "Python 3",
   "language": "python",
   "name": "python3"
  },
  "language_info": {
   "codemirror_mode": {
    "name": "ipython",
    "version": 3
   },
   "file_extension": ".py",
   "mimetype": "text/x-python",
   "name": "python",
   "nbconvert_exporter": "python",
   "pygments_lexer": "ipython3",
   "version": "3.8.5"
  }
 },
 "nbformat": 4,
 "nbformat_minor": 1
}
